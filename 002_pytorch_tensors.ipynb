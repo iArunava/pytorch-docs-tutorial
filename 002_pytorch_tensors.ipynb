{
  "nbformat": 4,
  "nbformat_minor": 0,
  "metadata": {
    "colab": {
      "name": "002_pytorch_tensors.ipynb",
      "version": "0.3.2",
      "provenance": []
    },
    "kernelspec": {
      "name": "python3",
      "display_name": "Python 3"
    },
    "accelerator": "GPU"
  },
  "cells": [
    {
      "metadata": {
        "id": "SOsVxt-xwQBK",
        "colab_type": "text"
      },
      "cell_type": "markdown",
      "source": [
        "# 002_pytorch_creation_ops"
      ]
    },
    {
      "metadata": {
        "id": "xE8jlN6Nwdb-",
        "colab_type": "code",
        "colab": {
          "base_uri": "https://localhost:8080/",
          "height": 144
        },
        "outputId": "e994d872-c4ad-4db7-db5a-8adad4565b92"
      },
      "cell_type": "code",
      "source": [
        "# Install pytorch if not alreaady available\n",
        "!pip install torch"
      ],
      "execution_count": 2,
      "outputs": [
        {
          "output_type": "stream",
          "text": [
            "Collecting torch\n",
            "\u001b[?25l  Downloading https://files.pythonhosted.org/packages/49/0e/e382bcf1a6ae8225f50b99cc26effa2d4cc6d66975ccf3fa9590efcbedce/torch-0.4.1-cp36-cp36m-manylinux1_x86_64.whl (519.5MB)\n",
            "\u001b[K    100% |████████████████████████████████| 519.5MB 33kB/s \n",
            "tcmalloc: large alloc 1073750016 bytes == 0x5a39c000 @  0x7fe07e84f2a4 0x594e17 0x626104 0x51190a 0x4f5277 0x510c78 0x5119bd 0x4f5277 0x4f3338 0x510fb0 0x5119bd 0x4f5277 0x4f3338 0x510fb0 0x5119bd 0x4f5277 0x4f3338 0x510fb0 0x5119bd 0x4f6070 0x510c78 0x5119bd 0x4f5277 0x4f3338 0x510fb0 0x5119bd 0x4f6070 0x4f3338 0x510fb0 0x5119bd 0x4f6070\n",
            "\u001b[?25hInstalling collected packages: torch\n",
            "Successfully installed torch-0.4.1\n"
          ],
          "name": "stdout"
        }
      ]
    },
    {
      "metadata": {
        "id": "6kpkvPmiwL7z",
        "colab_type": "code",
        "colab": {}
      },
      "cell_type": "code",
      "source": [
        "# Essential imports\n",
        "import torch\n",
        "import numpy as np"
      ],
      "execution_count": 0,
      "outputs": []
    },
    {
      "metadata": {
        "id": "TgdeJ8JpwL8P",
        "colab_type": "code",
        "colab": {
          "base_uri": "https://localhost:8080/",
          "height": 106
        },
        "outputId": "8cd53bdc-fa7d-4d6d-fa5c-c66a2da254ae"
      },
      "cell_type": "code",
      "source": [
        "# torch.tensor\n",
        "# Paramters -> data, dtype, device, requires_grad\n",
        "\n",
        "t1 = torch.tensor([1., 2., 3., 4., 5.],\n",
        "                  dtype=torch.float32,\n",
        "                  device=None,\n",
        "                  requires_grad=False)\n",
        "\n",
        "t2 = torch.tensor([[1., 2.], [3., 4.], [5., 6.]],\n",
        "                  dtype=torch.float64,\n",
        "                  device=torch.device('cpu:0'),\n",
        "                  requires_grad=False)\n",
        "\n",
        "t3 = torch.tensor([])\n",
        "\n",
        "print ('1D Tensor - t1: ', t1)\n",
        "print ('2D Tensor - t2: ', t2)\n",
        "print ('Empty Tensor - t3: ', t3)"
      ],
      "execution_count": 7,
      "outputs": [
        {
          "output_type": "stream",
          "text": [
            "1D Tensor - t1:  tensor([1., 2., 3., 4., 5.])\n",
            "2D Tensor - t2:  tensor([[1., 2.],\n",
            "        [3., 4.],\n",
            "        [5., 6.]], dtype=torch.float64)\n",
            "Empty Tensor - t3:  tensor([])\n"
          ],
          "name": "stdout"
        }
      ]
    },
    {
      "metadata": {
        "id": "52gyJ5aN0Y32",
        "colab_type": "code",
        "colab": {
          "base_uri": "https://localhost:8080/",
          "height": 106
        },
        "outputId": "6aa0a520-773e-4fd6-e76f-f8df3544c95d"
      },
      "cell_type": "code",
      "source": [
        "# torch.sparse_coo_tensor\n",
        "# Parameters -> indices, values, size, dtype, device ,requires_grad\n",
        "\n",
        "indices = torch.LongTensor([[0, 1, 1],\n",
        "                            [2, 0, 2]])\n",
        "\n",
        "values = torch.FloatTensor([3, 4, 5])\n",
        "\n",
        "sct1 = torch.sparse_coo_tensor(indices, values, torch.Size([2, 4]))\n",
        "\n",
        "print ('Sparse coo tensor: ', sct1)"
      ],
      "execution_count": 9,
      "outputs": [
        {
          "output_type": "stream",
          "text": [
            "Sparse coo tensor:  torch.sparse.FloatTensor of size (2,4) with indices:\n",
            "tensor([[0, 1, 1],\n",
            "        [2, 0, 2]])\n",
            "and values:\n",
            "tensor([3., 4., 5.])\n"
          ],
          "name": "stdout"
        }
      ]
    },
    {
      "metadata": {
        "id": "uhhsizsq8h2i",
        "colab_type": "code",
        "colab": {
          "base_uri": "https://localhost:8080/",
          "height": 124
        },
        "outputId": "e2a3463b-3d44-44ff-b6c8-685c84eb4aa5"
      },
      "cell_type": "code",
      "source": [
        "# torch.as_tensor(data, dtype=None, device=None)\n",
        "\n",
        "data = [[1, 2, 3], [4, 5, 6], [7, 8, 9]]\n",
        "t1 = torch.as_tensor(data, dtype=torch.float32)\n",
        "\n",
        "np_data = np.array([[1, 2, 3], [4, 5, 6], [7, 8, 9]])\n",
        "t2 = torch.as_tensor(np_data, dtype=torch.float32)\n",
        "\n",
        "print('t1 tensor from data: ', t1, ' with type ', type(t1))\n",
        "print('t2 tensor from np_data: ', t2, ' with type ', type(t1))"
      ],
      "execution_count": 13,
      "outputs": [
        {
          "output_type": "stream",
          "text": [
            "t1 tensor from data:  tensor([[1., 2., 3.],\n",
            "        [4., 5., 6.],\n",
            "        [7., 8., 9.]])  with type  <class 'torch.Tensor'>\n",
            "t2 tensor from np_data:  tensor([[1., 2., 3.],\n",
            "        [4., 5., 6.],\n",
            "        [7., 8., 9.]])  with type  <class 'torch.Tensor'>\n"
          ],
          "name": "stdout"
        }
      ]
    },
    {
      "metadata": {
        "id": "XQzjby83-YXb",
        "colab_type": "code",
        "colab": {
          "base_uri": "https://localhost:8080/",
          "height": 71
        },
        "outputId": "9873ca67-5289-4cca-8a33-2044f1679bd5"
      },
      "cell_type": "code",
      "source": [
        "# torch.from_numpy(ndarray)\n",
        "\n",
        "np_data = np.array([[1, 2, 3], [4, 5, 6], [7, 8, 9]])\n",
        "t2 = torch.from_numpy(np_data)\n",
        "\n",
        "print('t1 tensor from np_data: ', t1, ' with type ', type(t1))"
      ],
      "execution_count": 15,
      "outputs": [
        {
          "output_type": "stream",
          "text": [
            "t1 tensor from np_data:  tensor([[1., 2., 3.],\n",
            "        [4., 5., 6.],\n",
            "        [7., 8., 9.]])  with type  <class 'torch.Tensor'>\n"
          ],
          "name": "stdout"
        }
      ]
    },
    {
      "metadata": {
        "id": "2Y8uKozh-9ST",
        "colab_type": "code",
        "colab": {
          "base_uri": "https://localhost:8080/",
          "height": 196
        },
        "outputId": "39aab69d-0317-4ced-9cc8-dcadda20e00b"
      },
      "cell_type": "code",
      "source": [
        "# torch.zeros(*sizes, out, dtype, layout, device, requires_grad)\n",
        "\n",
        "z1 = torch.zeros(2, 3)\n",
        "z2 = torch.zeros(3, 2, 2)\n",
        "\n",
        "print('2D Zero Tensor: ', z1)\n",
        "print('3D Zero Tensor: ', z2)"
      ],
      "execution_count": 17,
      "outputs": [
        {
          "output_type": "stream",
          "text": [
            "2D Zero Tensor:  tensor([[0., 0., 0.],\n",
            "        [0., 0., 0.]])\n",
            "3D Zero Tensor:  tensor([[[0., 0.],\n",
            "         [0., 0.]],\n",
            "\n",
            "        [[0., 0.],\n",
            "         [0., 0.]],\n",
            "\n",
            "        [[0., 0.],\n",
            "         [0., 0.]]])\n"
          ],
          "name": "stdout"
        }
      ]
    },
    {
      "metadata": {
        "id": "S36R6K_-BIkR",
        "colab_type": "code",
        "colab": {
          "base_uri": "https://localhost:8080/",
          "height": 124
        },
        "outputId": "fea133a6-53ec-479b-a4b8-66f24c5c04f7"
      },
      "cell_type": "code",
      "source": [
        "# torch.zeros_like(input, dtype=None, layout=None, device=None, requires_grad=False) → Tensor\n",
        "\n",
        "d1 = torch.as_tensor([[1, 2, 3], [4, 5, 6], [7, 8, 9]])\n",
        "tzl1 = torch.zeros_like(d1)\n",
        "\n",
        "d2 = [[1, 2, 3], [4, 5, 6], [7, 8, 9]]\n",
        "tzl2 = torch.zeros_like(torch.as_tensor(d2))\n",
        "\n",
        "print('tzl1 has d1 shaped zeros: ', tzl1)\n",
        "print('tzl2 has d2 shaped zeros: ', tzl2)"
      ],
      "execution_count": 20,
      "outputs": [
        {
          "output_type": "stream",
          "text": [
            "tzl1 has d1 shaped zeros:  tensor([[0, 0, 0],\n",
            "        [0, 0, 0],\n",
            "        [0, 0, 0]])\n",
            "tzl2 has d2 shaped zeros:  tensor([[0, 0, 0],\n",
            "        [0, 0, 0],\n",
            "        [0, 0, 0]])\n"
          ],
          "name": "stdout"
        }
      ]
    },
    {
      "metadata": {
        "id": "y4U3fperDI3j",
        "colab_type": "code",
        "colab": {
          "base_uri": "https://localhost:8080/",
          "height": 124
        },
        "outputId": "6cb41c46-9122-4950-89e7-309c2bde5349"
      },
      "cell_type": "code",
      "source": [
        "# torch.ones(*sizes, out=None, dtype=None, layout=torch.strided, device=None, requires_grad=False) → Tensor\n",
        "\n",
        "tzl1 = torch.ones(4, 3)\n",
        "tzl2 = torch.ones(2, 3)\n",
        "\n",
        "print('tzl1 has d1 shaped ones: ', tzl1)\n",
        "print('tzl2 has d2 shaped ones: ', tzl2)"
      ],
      "execution_count": 27,
      "outputs": [
        {
          "output_type": "stream",
          "text": [
            "tzl1 has d1 shaped ones:  tensor([[1., 1., 1.],\n",
            "        [1., 1., 1.],\n",
            "        [1., 1., 1.],\n",
            "        [1., 1., 1.]])\n",
            "tzl2 has d2 shaped ones:  tensor([[1., 1., 1.],\n",
            "        [1., 1., 1.]])\n"
          ],
          "name": "stdout"
        }
      ]
    },
    {
      "metadata": {
        "id": "jitjeBNAEWaS",
        "colab_type": "code",
        "colab": {
          "base_uri": "https://localhost:8080/",
          "height": 106
        },
        "outputId": "d2db0c94-81c2-4b55-bf31-a0ab2518b18c"
      },
      "cell_type": "code",
      "source": [
        "# torch.ones_like(input, dtype=None, layout=None, device=None, requires_grad=False) → Tensor\n",
        "\n",
        "d1 = torch.as_tensor([[1, 2, 3], [4, 5, 6], [7, 8, 9]])\n",
        "tzl1 = torch.ones_like(d1)\n",
        "\n",
        "d2 = [[1, 2, 3], [7, 8, 9]]\n",
        "tzl2 = torch.ones_like(torch.as_tensor(d2))\n",
        "\n",
        "print ('tzl1: ', tzl1)\n",
        "print('tzl2 has d2 shaped ones: ', tzl2)"
      ],
      "execution_count": 29,
      "outputs": [
        {
          "output_type": "stream",
          "text": [
            "tzl1:  tensor([[1, 1, 1],\n",
            "        [1, 1, 1],\n",
            "        [1, 1, 1]])\n",
            "tzl2 has d2 shaped ones:  tensor([[1, 1, 1],\n",
            "        [1, 1, 1]])\n"
          ],
          "name": "stdout"
        }
      ]
    },
    {
      "metadata": {
        "id": "bvletVIiKxUI",
        "colab_type": "code",
        "colab": {
          "base_uri": "https://localhost:8080/",
          "height": 53
        },
        "outputId": "57839dba-a350-4df8-b4cd-620bd5951464"
      },
      "cell_type": "code",
      "source": [
        "# torch.arange(start=0, end, step=1, out=None, dtype=None, layout=torch.strided, device=None, requires_grad=False) -> Tensor\n",
        "\n",
        "t1 = torch.arange(5)\n",
        "t2 = torch.arange(2, 10, 2)\n",
        "\n",
        "print('t1: ', t1)\n",
        "print('t2: ', t2)"
      ],
      "execution_count": 32,
      "outputs": [
        {
          "output_type": "stream",
          "text": [
            "t1:  tensor([0, 1, 2, 3, 4])\n",
            "t2:  tensor([2, 4, 6, 8])\n"
          ],
          "name": "stdout"
        }
      ]
    },
    {
      "metadata": {
        "id": "gnRTxS7uM1Ef",
        "colab_type": "code",
        "colab": {
          "base_uri": "https://localhost:8080/",
          "height": 53
        },
        "outputId": "97dee8a2-4c68-4555-8603-36ba8dcf2c4f"
      },
      "cell_type": "code",
      "source": [
        "# torch.linspace(start, end, steps=100, out=None, layout=torch.strided, device=None, requires_grad=False) -> Tensor\n",
        "\n",
        "t1 = torch.linspace(12, 28, steps=7)\n",
        "t2 = torch.linspace(5, 45, steps=9)\n",
        "\n",
        "print ('t1: ', t1)\n",
        "print ('t2: ', t2)"
      ],
      "execution_count": 33,
      "outputs": [
        {
          "output_type": "stream",
          "text": [
            "t1:  tensor([12.0000, 14.6667, 17.3333, 20.0000, 22.6667, 25.3333, 28.0000])\n",
            "t2:  tensor([ 5., 10., 15., 20., 25., 30., 35., 40., 45.])\n"
          ],
          "name": "stdout"
        }
      ]
    },
    {
      "metadata": {
        "id": "ey5IJc1ZOkU5",
        "colab_type": "code",
        "colab": {
          "base_uri": "https://localhost:8080/",
          "height": 71
        },
        "outputId": "bc10a3d4-d309-4e81-b9c1-6e63598fce5c"
      },
      "cell_type": "code",
      "source": [
        "# torch.logspace(start, end, steps=100, out=None, dtype=None, layout=torch.strided, device=None, requires_grad=False) -> Tensor\n",
        "\n",
        "t1 = torch.logspace(start=-10, end=5, steps=6)\n",
        "t2 = torch.logspace(start=0.34, end=3.56, steps=8)\n",
        "\n",
        "print ('t1: ', t1)\n",
        "print ('t2: ', t2)"
      ],
      "execution_count": 34,
      "outputs": [
        {
          "output_type": "stream",
          "text": [
            "t1:  tensor([1.0000e-10, 1.0000e-07, 1.0000e-04, 1.0000e-01, 1.0000e+02, 1.0000e+05])\n",
            "t2:  tensor([   2.1878,    6.3096,   18.1970,   52.4808,  151.3562,  436.5157,\n",
            "        1258.9252, 3630.7800])\n"
          ],
          "name": "stdout"
        }
      ]
    },
    {
      "metadata": {
        "id": "xXF1gVtVQHWL",
        "colab_type": "code",
        "colab": {
          "base_uri": "https://localhost:8080/",
          "height": 124
        },
        "outputId": "c64cf4e0-bf39-4dc8-c46f-cb8fb752fd82"
      },
      "cell_type": "code",
      "source": [
        "# torch.eye(n, m=None, out=None, dtype=None, layout=torch.strided, device=None, requires_grad=False) -> Tensor\n",
        "\n",
        "t1 = torch.eye(3)\n",
        "t2 = torch.eye(1)\n",
        "\n",
        "print ('Identity Matrix t1: \\n', t1)\n",
        "print ('Identity Matrix t2: \\n', t2)"
      ],
      "execution_count": 36,
      "outputs": [
        {
          "output_type": "stream",
          "text": [
            "Identity Matrix t1: \n",
            " tensor([[1., 0., 0.],\n",
            "        [0., 1., 0.],\n",
            "        [0., 0., 1.]])\n",
            "Identity Matrix t2: \n",
            " tensor([[1.]])\n"
          ],
          "name": "stdout"
        }
      ]
    },
    {
      "metadata": {
        "id": "S5Q4E_qQRdYW",
        "colab_type": "code",
        "colab": {
          "base_uri": "https://localhost:8080/",
          "height": 196
        },
        "outputId": "a6c8862a-4490-4963-a1e4-ec2f09a7d08e"
      },
      "cell_type": "code",
      "source": [
        "# torch.empty(*sizes, out=None, dtype=None, layout=torch.strided, device=None, requries_grad=False) -> Tensor\n",
        "\n",
        "t1 = torch.empty(2, 3)\n",
        "t2 = torch.empty(3, 2, 2)\n",
        "\n",
        "print ('Empty tensor t1: ', t1)\n",
        "print ('Empty tensor t2: ', t2)"
      ],
      "execution_count": 37,
      "outputs": [
        {
          "output_type": "stream",
          "text": [
            "Empty tensor t1:  tensor([[4.8051e-36, 0.0000e+00, 0.0000e+00],\n",
            "        [0.0000e+00, 0.0000e+00, 1.0000e+05]])\n",
            "Empty tensor t2:  tensor([[[0.0000, 0.0000],\n",
            "         [0.0000, 0.0000]],\n",
            "\n",
            "        [[0.0000, 0.0000],\n",
            "         [0.0000, 0.0000]],\n",
            "\n",
            "        [[0.0000, 0.0000],\n",
            "         [0.0000, 0.0000]]])\n"
          ],
          "name": "stdout"
        }
      ]
    },
    {
      "metadata": {
        "id": "7UefeF8uSrp7",
        "colab_type": "code",
        "colab": {
          "base_uri": "https://localhost:8080/",
          "height": 71
        },
        "outputId": "55ad6137-72dc-4e73-f0f4-728c639b46aa"
      },
      "cell_type": "code",
      "source": [
        "# torch.empty_like(input, dtype=None, layout=None, device=None, requries_grad=False) -> Tensor\n",
        "\n",
        "d1 = torch.tensor([1, 2, 3, 4, 5])\n",
        "t1 = torch.empty_like(d1)\n",
        "\n",
        "d2 = np.array([[1, 2], [3, 4]])\n",
        "t2 = torch.empty_like(torch.from_numpy(d2))\n",
        "\n",
        "print ('t1: ', t1)\n",
        "print ('t2: ', t2)"
      ],
      "execution_count": 39,
      "outputs": [
        {
          "output_type": "stream",
          "text": [
            "t1:  tensor([44889728, 89581488,        0, 80425448, 80426288])\n",
            "t2:  tensor([[       80505504,               0],\n",
            "        [     4294967295, 125823003551060]])\n"
          ],
          "name": "stdout"
        }
      ]
    },
    {
      "metadata": {
        "id": "1pMwt1_5UVYS",
        "colab_type": "code",
        "colab": {
          "base_uri": "https://localhost:8080/",
          "height": 356
        },
        "outputId": "e97dca86-9b07-4cee-9f48-7fe9b0d6fd13"
      },
      "cell_type": "code",
      "source": [
        "# torch.full(size, fill_value, out=None, dtype=None, layout=torch.strided, device=None, requires_grad=False) -> Tensor\n",
        "\n",
        "t1 = torch.full((2, 3), 9.45)\n",
        "t2 = torch.full((4, 3, 2), 45.2)\n",
        "\n",
        "print ('full tensor with 9.45: \\n', t1)\n",
        "print ('full tensor with 45.2: \\n', t2)"
      ],
      "execution_count": 40,
      "outputs": [
        {
          "output_type": "stream",
          "text": [
            "full tensor with 9.45: \n",
            " tensor([[9.4500, 9.4500, 9.4500],\n",
            "        [9.4500, 9.4500, 9.4500]])\n",
            "full tensor with 45.2: \n",
            " tensor([[[45.2000, 45.2000],\n",
            "         [45.2000, 45.2000],\n",
            "         [45.2000, 45.2000]],\n",
            "\n",
            "        [[45.2000, 45.2000],\n",
            "         [45.2000, 45.2000],\n",
            "         [45.2000, 45.2000]],\n",
            "\n",
            "        [[45.2000, 45.2000],\n",
            "         [45.2000, 45.2000],\n",
            "         [45.2000, 45.2000]],\n",
            "\n",
            "        [[45.2000, 45.2000],\n",
            "         [45.2000, 45.2000],\n",
            "         [45.2000, 45.2000]]])\n"
          ],
          "name": "stdout"
        }
      ]
    },
    {
      "metadata": {
        "id": "8zREmOZ2VDjD",
        "colab_type": "code",
        "colab": {
          "base_uri": "https://localhost:8080/",
          "height": 339
        },
        "outputId": "75a3b9fe-ac40-4a19-bc8c-b122b22fd1ed"
      },
      "cell_type": "code",
      "source": [
        "# torch.full_like(input, fill_value, out=None, dtype=None, layout=torch.strided, device=None, requires_grad=False) → Tensor\n",
        "\n",
        "d1 = torch.tensor([1, 4, 65, 12, 78])\n",
        "t1 = torch.full_like(d1, 90)\n",
        "\n",
        "d2 = [[34, 12], [78, 23], [89, 12]]\n",
        "t1 = torch.full_like(torch.tensor(d2), 78.3)\n",
        "\n",
        "print ('Tensor filled with 90: ', t1)\n",
        "print ('Tensor filled with 78.3: ', t2)"
      ],
      "execution_count": 41,
      "outputs": [
        {
          "output_type": "stream",
          "text": [
            "Tensor filled with 90:  tensor([[78, 78],\n",
            "        [78, 78],\n",
            "        [78, 78]])\n",
            "Tensor filled with 78.3:  tensor([[[45.2000, 45.2000],\n",
            "         [45.2000, 45.2000],\n",
            "         [45.2000, 45.2000]],\n",
            "\n",
            "        [[45.2000, 45.2000],\n",
            "         [45.2000, 45.2000],\n",
            "         [45.2000, 45.2000]],\n",
            "\n",
            "        [[45.2000, 45.2000],\n",
            "         [45.2000, 45.2000],\n",
            "         [45.2000, 45.2000]],\n",
            "\n",
            "        [[45.2000, 45.2000],\n",
            "         [45.2000, 45.2000],\n",
            "         [45.2000, 45.2000]]])\n"
          ],
          "name": "stdout"
        }
      ]
    }
  ]
}